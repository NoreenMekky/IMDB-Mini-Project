{
 "cells": [
  {
   "cell_type": "markdown",
   "metadata": {},
   "source": [
    "# Analyzing IMDB Data in Keras"
   ]
  },
  {
   "cell_type": "code",
   "execution_count": 1,
   "metadata": {},
   "outputs": [
    {
     "name": "stderr",
     "output_type": "stream",
     "text": [
      "Using TensorFlow backend.\n"
     ]
    }
   ],
   "source": [
    "# Imports\n",
    "import numpy as np\n",
    "import keras\n",
    "from keras.datasets import imdb\n",
    "from keras.models import Sequential\n",
    "from keras.layers import Dense, Dropout, Activation\n",
    "from keras.preprocessing.text import Tokenizer\n",
    "import matplotlib.pyplot as plt\n",
    "%matplotlib inline\n",
    "\n",
    "np.random.seed(42)"
   ]
  },
  {
   "cell_type": "markdown",
   "metadata": {},
   "source": [
    "## 1. Loading the data\n",
    "This dataset comes preloaded with Keras, so one simple command will get us training and testing data. There is a parameter for how many words we want to look at. We've set it at 1000, but feel free to experiment."
   ]
  },
  {
   "cell_type": "code",
   "execution_count": 2,
   "metadata": {},
   "outputs": [
    {
     "name": "stdout",
     "output_type": "stream",
     "text": [
      "(25000,)\n",
      "(25000,)\n"
     ]
    }
   ],
   "source": [
    "# Loading the data (it's preloaded in Keras)\n",
    "(x_train, y_train), (x_test, y_test) = imdb.load_data(num_words=1000)\n",
    "\n",
    "print(x_train.shape)\n",
    "print(x_test.shape)"
   ]
  },
  {
   "cell_type": "markdown",
   "metadata": {},
   "source": [
    "## 2. Examining the data\n",
    "Notice that the data has been already pre-processed, where all the words have numbers, and the reviews come in as a vector with the words that the review contains. For example, if the word 'the' is the first one in our dictionary, and a review contains the word 'the', then there is a 1 in the corresponding vector.\n",
    "\n",
    "The output comes as a vector of 1's and 0's, where 1 is a positive sentiment for the review, and 0 is negative."
   ]
  },
  {
   "cell_type": "code",
   "execution_count": 3,
   "metadata": {},
   "outputs": [
    {
     "name": "stdout",
     "output_type": "stream",
     "text": [
      "[1, 14, 22, 16, 43, 530, 973, 2, 2, 65, 458, 2, 66, 2, 4, 173, 36, 256, 5, 25, 100, 43, 838, 112, 50, 670, 2, 9, 35, 480, 284, 5, 150, 4, 172, 112, 167, 2, 336, 385, 39, 4, 172, 2, 2, 17, 546, 38, 13, 447, 4, 192, 50, 16, 6, 147, 2, 19, 14, 22, 4, 2, 2, 469, 4, 22, 71, 87, 12, 16, 43, 530, 38, 76, 15, 13, 2, 4, 22, 17, 515, 17, 12, 16, 626, 18, 2, 5, 62, 386, 12, 8, 316, 8, 106, 5, 4, 2, 2, 16, 480, 66, 2, 33, 4, 130, 12, 16, 38, 619, 5, 25, 124, 51, 36, 135, 48, 25, 2, 33, 6, 22, 12, 215, 28, 77, 52, 5, 14, 407, 16, 82, 2, 8, 4, 107, 117, 2, 15, 256, 4, 2, 7, 2, 5, 723, 36, 71, 43, 530, 476, 26, 400, 317, 46, 7, 4, 2, 2, 13, 104, 88, 4, 381, 15, 297, 98, 32, 2, 56, 26, 141, 6, 194, 2, 18, 4, 226, 22, 21, 134, 476, 26, 480, 5, 144, 30, 2, 18, 51, 36, 28, 224, 92, 25, 104, 4, 226, 65, 16, 38, 2, 88, 12, 16, 283, 5, 16, 2, 113, 103, 32, 15, 16, 2, 19, 178, 32]\n",
      "1\n"
     ]
    }
   ],
   "source": [
    "print(x_train[0])\n",
    "print(y_train[0])"
   ]
  },
  {
   "cell_type": "markdown",
   "metadata": {},
   "source": [
    "## 3. One-hot encoding the output\n",
    "Here, we'll turn the input vectors into (0,1)-vectors. For example, if the pre-processed vector contains the number 14, then in the processed vector, the 14th entry will be 1."
   ]
  },
  {
   "cell_type": "code",
   "execution_count": 4,
   "metadata": {},
   "outputs": [
    {
     "name": "stdout",
     "output_type": "stream",
     "text": [
      "[ 0.  1.  1.  0.  1.  1.  1.  1.  1.  1.  0.  0.  1.  1.  1.  1.  1.  1.\n",
      "  1.  1.  0.  1.  1.  0.  0.  1.  1.  0.  1.  0.  1.  0.  1.  1.  0.  1.\n",
      "  1.  0.  1.  1.  0.  0.  0.  1.  0.  0.  1.  0.  1.  0.  1.  1.  1.  0.\n",
      "  0.  0.  1.  0.  0.  0.  0.  0.  1.  0.  0.  1.  1.  0.  0.  0.  0.  1.\n",
      "  0.  0.  0.  0.  1.  1.  0.  0.  0.  0.  1.  0.  0.  0.  0.  1.  1.  0.\n",
      "  0.  0.  1.  0.  0.  0.  0.  0.  1.  0.  1.  0.  0.  1.  1.  0.  1.  1.\n",
      "  0.  0.  0.  0.  1.  1.  0.  0.  0.  1.  0.  0.  0.  0.  0.  0.  1.  0.\n",
      "  0.  0.  0.  0.  1.  0.  0.  0.  1.  1.  0.  0.  0.  0.  0.  1.  0.  0.\n",
      "  1.  0.  0.  1.  0.  0.  1.  0.  0.  0.  0.  0.  0.  0.  0.  0.  0.  0.\n",
      "  0.  0.  0.  0.  0.  1.  0.  0.  0.  0.  1.  1.  0.  0.  0.  0.  1.  0.\n",
      "  0.  0.  0.  0.  0.  0.  0.  0.  0.  0.  0.  0.  1.  0.  1.  0.  0.  0.\n",
      "  0.  0.  0.  0.  0.  0.  0.  0.  0.  0.  0.  0.  0.  0.  0.  0.  0.  1.\n",
      "  0.  0.  0.  0.  0.  0.  0.  0.  1.  0.  1.  0.  0.  0.  0.  0.  0.  0.\n",
      "  0.  0.  0.  0.  0.  0.  0.  0.  0.  0.  0.  0.  0.  0.  0.  0.  0.  0.\n",
      "  0.  0.  0.  0.  1.  0.  0.  0.  0.  0.  0.  0.  0.  0.  0.  0.  0.  0.\n",
      "  0.  0.  0.  0.  0.  0.  0.  0.  0.  0.  0.  0.  0.  1.  1.  0.  0.  0.\n",
      "  0.  0.  0.  0.  0.  0.  0.  0.  0.  1.  0.  0.  0.  0.  0.  0.  0.  0.\n",
      "  0.  0.  0.  0.  0.  0.  0.  0.  0.  0.  1.  1.  0.  0.  0.  0.  0.  0.\n",
      "  0.  0.  0.  0.  0.  0.  0.  0.  0.  0.  0.  0.  1.  0.  0.  0.  0.  0.\n",
      "  0.  0.  0.  0.  0.  0.  0.  0.  0.  0.  0.  0.  0.  0.  0.  0.  0.  0.\n",
      "  0.  0.  0.  0.  0.  0.  0.  0.  0.  0.  0.  0.  0.  0.  0.  0.  0.  0.\n",
      "  0.  0.  0.  1.  0.  0.  0.  1.  1.  0.  0.  0.  0.  0.  0.  0.  0.  0.\n",
      "  0.  0.  0.  0.  1.  0.  0.  0.  0.  0.  0.  1.  0.  0.  0.  0.  0.  0.\n",
      "  0.  0.  0.  0.  0.  0.  0.  0.  0.  0.  0.  0.  0.  0.  0.  0.  0.  0.\n",
      "  0.  0.  0.  0.  0.  0.  0.  0.  0.  0.  0.  0.  0.  0.  0.  1.  0.  0.\n",
      "  0.  0.  0.  0.  0.  0.  0.  0.  1.  0.  0.  0.  0.  0.  0.  0.  0.  0.\n",
      "  0.  1.  0.  0.  0.  0.  0.  0.  1.  0.  0.  0.  1.  0.  0.  0.  0.  0.\n",
      "  0.  0.  0.  0.  0.  0.  0.  0.  0.  0.  0.  0.  0.  0.  0.  0.  0.  0.\n",
      "  0.  0.  0.  0.  0.  0.  0.  0.  0.  0.  0.  1.  0.  0.  0.  0.  0.  0.\n",
      "  0.  0.  0.  0.  0.  0.  0.  0.  1.  0.  0.  0.  0.  0.  0.  0.  0.  0.\n",
      "  0.  0.  0.  0.  0.  0.  1.  0.  0.  0.  0.  0.  0.  0.  0.  0.  0.  0.\n",
      "  0.  0.  0.  0.  0.  0.  0.  0.  0.  0.  0.  0.  0.  0.  0.  0.  0.  0.\n",
      "  0.  0.  0.  0.  0.  0.  0.  0.  0.  0.  0.  0.  0.  0.  0.  0.  0.  0.\n",
      "  0.  0.  0.  0.  0.  0.  0.  0.  0.  0.  0.  0.  0.  0.  0.  0.  0.  0.\n",
      "  0.  0.  0.  0.  0.  0.  0.  1.  0.  0.  0.  0.  0.  0.  1.  0.  0.  0.\n",
      "  0.  0.  0.  0.  0.  0.  0.  0.  0.  0.  0.  0.  0.  0.  0.  0.  0.  0.\n",
      "  0.  0.  0.  0.  0.  0.  0.  0.  0.  0.  0.  0.  0.  0.  0.  0.  0.  0.\n",
      "  0.  0.  0.  0.  1.  0.  0.  0.  0.  0.  0.  0.  0.  0.  0.  0.  0.  0.\n",
      "  0.  0.  0.  0.  0.  0.  0.  0.  0.  0.  0.  0.  0.  0.  0.  0.  0.  0.\n",
      "  0.  0.  0.  0.  0.  0.  0.  0.  0.  0.  0.  0.  0.  0.  0.  0.  0.  0.\n",
      "  0.  0.  0.  1.  0.  0.  0.  0.  0.  0.  0.  0.  0.  0.  0.  0.  0.  0.\n",
      "  0.  0.  0.  0.  0.  0.  0.  0.  0.  0.  0.  0.  0.  0.  0.  0.  0.  0.\n",
      "  0.  0.  0.  0.  0.  0.  0.  0.  0.  0.  0.  0.  0.  0.  0.  0.  0.  0.\n",
      "  0.  0.  0.  0.  0.  0.  0.  0.  0.  0.  0.  0.  0.  0.  0.  0.  0.  0.\n",
      "  0.  0.  0.  0.  0.  0.  0.  0.  0.  0.  0.  0.  0.  0.  0.  0.  0.  0.\n",
      "  0.  0.  0.  0.  0.  0.  0.  0.  0.  0.  0.  0.  0.  0.  0.  0.  0.  0.\n",
      "  0.  0.  0.  0.  0.  0.  0.  0.  0.  0.  1.  0.  0.  0.  0.  0.  0.  0.\n",
      "  0.  0.  0.  0.  0.  0.  0.  0.  0.  0.  0.  0.  0.  0.  0.  0.  0.  0.\n",
      "  0.  0.  0.  0.  0.  0.  0.  0.  0.  0.  0.  0.  0.  0.  0.  0.  0.  0.\n",
      "  0.  0.  0.  0.  0.  0.  0.  0.  0.  0.  0.  0.  0.  0.  0.  0.  0.  0.\n",
      "  0.  0.  0.  0.  0.  0.  0.  0.  0.  0.  0.  0.  0.  0.  0.  0.  0.  0.\n",
      "  0.  0.  0.  0.  0.  0.  0.  0.  0.  0.  0.  0.  0.  0.  0.  0.  0.  0.\n",
      "  0.  0.  0.  0.  0.  0.  0.  0.  0.  0.  0.  0.  0.  0.  0.  0.  0.  0.\n",
      "  0.  0.  0.  0.  0.  0.  0.  0.  0.  0.  0.  0.  0.  0.  0.  0.  0.  0.\n",
      "  0.  1.  0.  0.  0.  0.  0.  0.  0.  0.  0.  0.  0.  0.  0.  0.  0.  0.\n",
      "  0.  0.  0.  0.  0.  0.  0.  0.  0.  0.]\n"
     ]
    }
   ],
   "source": [
    "# One-hot encoding the output into vector mode, each of length 1000\n",
    "tokenizer = Tokenizer(num_words=1000)\n",
    "x_train = tokenizer.sequences_to_matrix(x_train, mode='binary')\n",
    "x_test = tokenizer.sequences_to_matrix(x_test, mode='binary')\n",
    "print(x_train[0])"
   ]
  },
  {
   "cell_type": "markdown",
   "metadata": {},
   "source": [
    "And we'll also one-hot encode the output."
   ]
  },
  {
   "cell_type": "code",
   "execution_count": 5,
   "metadata": {},
   "outputs": [
    {
     "name": "stdout",
     "output_type": "stream",
     "text": [
      "(25000, 2)\n",
      "(25000, 2)\n"
     ]
    }
   ],
   "source": [
    "# One-hot encoding the output\n",
    "num_classes = 2\n",
    "y_train = keras.utils.to_categorical(y_train, num_classes)\n",
    "y_test = keras.utils.to_categorical(y_test, num_classes)\n",
    "print(y_train.shape)\n",
    "print(y_test.shape)"
   ]
  },
  {
   "cell_type": "markdown",
   "metadata": {},
   "source": [
    "## 4. Building the  model architecture\n",
    "Build a model here using sequential. Feel free to experiment with different layers and sizes! Also, experiment adding dropout to reduce overfitting."
   ]
  },
  {
   "cell_type": "code",
   "execution_count": 6,
   "metadata": {},
   "outputs": [],
   "source": [
    "# TODO: Build the model architecture\n",
    "imdb = Sequential()\n"
   ]
  },
  {
   "cell_type": "code",
   "execution_count": 7,
   "metadata": {
    "scrolled": true
   },
   "outputs": [
    {
     "name": "stderr",
     "output_type": "stream",
     "text": [
      "/home/noreen/anaconda3/lib/python3.5/site-packages/ipykernel_launcher.py:1: UserWarning: Update your `Dense` call to the Keras 2 API: `Dense(501, activation=\"relu\", input_dim=1000, kernel_initializer=\"uniform\")`\n",
      "  \"\"\"Entry point for launching an IPython kernel.\n",
      "/home/noreen/anaconda3/lib/python3.5/site-packages/ipykernel_launcher.py:3: UserWarning: Update your `Dense` call to the Keras 2 API: `Dense(501, activation=\"relu\", kernel_initializer=\"uniform\")`\n",
      "  This is separate from the ipykernel package so we can avoid doing imports until\n",
      "/home/noreen/anaconda3/lib/python3.5/site-packages/ipykernel_launcher.py:5: UserWarning: Update your `Dense` call to the Keras 2 API: `Dense(2, activation=\"softmax\", kernel_initializer=\"uniform\")`\n",
      "  \"\"\"\n"
     ]
    }
   ],
   "source": [
    "imdb.add(Dense(501, input_dim=x_train.shape[1], activation = 'relu', init='uniform'))\n",
    "imdb.add(Dropout(0.6))\n",
    "imdb.add(Dense(501, activation= 'relu', init='uniform'))\n",
    "imdb.add(Dropout(0.6))\n",
    "imdb.add(Dense(2, activation='softmax', init='uniform'))\n",
    "         \n",
    "# TODO: Compile the model using a loss function and an optimizer.\n",
    "imdb.compile(optimizer='adam', loss='binary_crossentropy', metrics=['accuracy'])\n"
   ]
  },
  {
   "cell_type": "code",
   "execution_count": 8,
   "metadata": {},
   "outputs": [
    {
     "name": "stdout",
     "output_type": "stream",
     "text": [
      "_________________________________________________________________\n",
      "Layer (type)                 Output Shape              Param #   \n",
      "=================================================================\n",
      "dense_1 (Dense)              (None, 501)               501501    \n",
      "_________________________________________________________________\n",
      "dropout_1 (Dropout)          (None, 501)               0         \n",
      "_________________________________________________________________\n",
      "dense_2 (Dense)              (None, 501)               251502    \n",
      "_________________________________________________________________\n",
      "dropout_2 (Dropout)          (None, 501)               0         \n",
      "_________________________________________________________________\n",
      "dense_3 (Dense)              (None, 2)                 1004      \n",
      "=================================================================\n",
      "Total params: 754,007\n",
      "Trainable params: 754,007\n",
      "Non-trainable params: 0\n",
      "_________________________________________________________________\n",
      "None\n"
     ]
    }
   ],
   "source": [
    "print(imdb.summary())"
   ]
  },
  {
   "cell_type": "markdown",
   "metadata": {},
   "source": [
    "## 5. Training the model\n",
    "Run the model here. Experiment with different batch_size, and number of epochs!"
   ]
  },
  {
   "cell_type": "code",
   "execution_count": 9,
   "metadata": {},
   "outputs": [
    {
     "name": "stdout",
     "output_type": "stream",
     "text": [
      "Epoch 1/80\n",
      "25000/25000 [==============================] - 9s 370us/step - loss: 0.4301 - acc: 0.7982\n",
      "Epoch 2/80\n",
      "25000/25000 [==============================] - 7s 283us/step - loss: 0.3221 - acc: 0.8612\n",
      "Epoch 3/80\n",
      "25000/25000 [==============================] - 7s 286us/step - loss: 0.2892 - acc: 0.8791\n",
      "Epoch 4/80\n",
      "25000/25000 [==============================] - 7s 287us/step - loss: 0.2562 - acc: 0.8973\n",
      "Epoch 5/80\n",
      "25000/25000 [==============================] - 7s 297us/step - loss: 0.2172 - acc: 0.9131\n",
      "Epoch 6/80\n",
      "25000/25000 [==============================] - 7s 289us/step - loss: 0.1775 - acc: 0.9309\n",
      "Epoch 7/80\n",
      "25000/25000 [==============================] - 7s 290us/step - loss: 0.1388 - acc: 0.9479\n",
      "Epoch 8/80\n",
      "25000/25000 [==============================] - 7s 289us/step - loss: 0.1141 - acc: 0.9550\n",
      "Epoch 9/80\n",
      "25000/25000 [==============================] - 7s 290us/step - loss: 0.0981 - acc: 0.9628\n",
      "Epoch 10/80\n",
      "25000/25000 [==============================] - 7s 288us/step - loss: 0.0847 - acc: 0.9684\n",
      "Epoch 11/80\n",
      "25000/25000 [==============================] - 7s 292us/step - loss: 0.0741 - acc: 0.9731\n",
      "Epoch 12/80\n",
      "25000/25000 [==============================] - 7s 291us/step - loss: 0.0688 - acc: 0.9746\n",
      "Epoch 13/80\n",
      "25000/25000 [==============================] - 7s 292us/step - loss: 0.0635 - acc: 0.9764\n",
      "Epoch 14/80\n",
      "25000/25000 [==============================] - 7s 289us/step - loss: 0.0544 - acc: 0.9802\n",
      "Epoch 15/80\n",
      "25000/25000 [==============================] - 8s 305us/step - loss: 0.0488 - acc: 0.9826\n",
      "Epoch 16/80\n",
      "25000/25000 [==============================] - 8s 303us/step - loss: 0.0463 - acc: 0.9830\n",
      "Epoch 17/80\n",
      "25000/25000 [==============================] - 9s 360us/step - loss: 0.0476 - acc: 0.9826\n",
      "Epoch 18/80\n",
      "25000/25000 [==============================] - 12s 470us/step - loss: 0.0434 - acc: 0.9848\n",
      "Epoch 19/80\n",
      "25000/25000 [==============================] - 9s 347us/step - loss: 0.0411 - acc: 0.9850\n",
      "Epoch 20/80\n",
      "25000/25000 [==============================] - 8s 334us/step - loss: 0.0400 - acc: 0.9853\n",
      "Epoch 21/80\n",
      "25000/25000 [==============================] - 8s 335us/step - loss: 0.0386 - acc: 0.9865\n",
      "Epoch 22/80\n",
      "25000/25000 [==============================] - 8s 338us/step - loss: 0.0347 - acc: 0.9879\n",
      "Epoch 23/80\n",
      "25000/25000 [==============================] - 10s 388us/step - loss: 0.0334 - acc: 0.9883\n",
      "Epoch 24/80\n",
      "25000/25000 [==============================] - 11s 430us/step - loss: 0.0311 - acc: 0.9889\n",
      "Epoch 25/80\n",
      "25000/25000 [==============================] - 10s 419us/step - loss: 0.0363 - acc: 0.9875\n",
      "Epoch 26/80\n",
      "25000/25000 [==============================] - 9s 372us/step - loss: 0.0315 - acc: 0.9891\n",
      "Epoch 27/80\n",
      "25000/25000 [==============================] - 10s 385us/step - loss: 0.0325 - acc: 0.9886\n",
      "Epoch 28/80\n",
      "25000/25000 [==============================] - 9s 372us/step - loss: 0.0298 - acc: 0.9894\n",
      "Epoch 29/80\n",
      "25000/25000 [==============================] - 9s 360us/step - loss: 0.0303 - acc: 0.9893\n",
      "Epoch 30/80\n",
      "25000/25000 [==============================] - 10s 403us/step - loss: 0.0292 - acc: 0.9890\n",
      "Epoch 31/80\n",
      "25000/25000 [==============================] - 11s 435us/step - loss: 0.0282 - acc: 0.9892\n",
      "Epoch 32/80\n",
      "25000/25000 [==============================] - 11s 434us/step - loss: 0.0273 - acc: 0.9907\n",
      "Epoch 33/80\n",
      "25000/25000 [==============================] - 11s 434us/step - loss: 0.0244 - acc: 0.9914\n",
      "Epoch 34/80\n",
      "25000/25000 [==============================] - 10s 402us/step - loss: 0.0250 - acc: 0.9914\n",
      "Epoch 35/80\n",
      "25000/25000 [==============================] - 10s 416us/step - loss: 0.0237 - acc: 0.9912\n",
      "Epoch 36/80\n",
      "25000/25000 [==============================] - 10s 413us/step - loss: 0.0244 - acc: 0.9912\n",
      "Epoch 37/80\n",
      "25000/25000 [==============================] - 10s 412us/step - loss: 0.0271 - acc: 0.9904\n",
      "Epoch 38/80\n",
      "25000/25000 [==============================] - 10s 414us/step - loss: 0.0249 - acc: 0.9912\n",
      "Epoch 39/80\n",
      "25000/25000 [==============================] - 11s 454us/step - loss: 0.0221 - acc: 0.9922\n",
      "Epoch 40/80\n",
      "25000/25000 [==============================] - 12s 499us/step - loss: 0.0230 - acc: 0.9919\n",
      "Epoch 41/80\n",
      "25000/25000 [==============================] - 13s 505us/step - loss: 0.0231 - acc: 0.9918\n",
      "Epoch 42/80\n",
      "25000/25000 [==============================] - 12s 486us/step - loss: 0.0241 - acc: 0.9909\n",
      "Epoch 43/80\n",
      "25000/25000 [==============================] - 12s 476us/step - loss: 0.0208 - acc: 0.9926\n",
      "Epoch 44/80\n",
      "25000/25000 [==============================] - 12s 480us/step - loss: 0.0202 - acc: 0.9928\n",
      "Epoch 45/80\n",
      "25000/25000 [==============================] - 11s 458us/step - loss: 0.0223 - acc: 0.9924\n",
      "Epoch 46/80\n",
      "25000/25000 [==============================] - 11s 455us/step - loss: 0.0212 - acc: 0.9926\n",
      "Epoch 47/80\n",
      "25000/25000 [==============================] - 11s 455us/step - loss: 0.0208 - acc: 0.9924\n",
      "Epoch 48/80\n",
      "25000/25000 [==============================] - 11s 454us/step - loss: 0.0188 - acc: 0.9937\n",
      "Epoch 49/80\n",
      "25000/25000 [==============================] - 11s 456us/step - loss: 0.0217 - acc: 0.9920\n",
      "Epoch 50/80\n",
      "25000/25000 [==============================] - 13s 501us/step - loss: 0.0204 - acc: 0.9925\n",
      "Epoch 51/80\n",
      "25000/25000 [==============================] - 12s 486us/step - loss: 0.0197 - acc: 0.9933\n",
      "Epoch 52/80\n",
      "25000/25000 [==============================] - 12s 495us/step - loss: 0.0210 - acc: 0.9921\n",
      "Epoch 53/80\n",
      "25000/25000 [==============================] - 13s 536us/step - loss: 0.0227 - acc: 0.9921\n",
      "Epoch 54/80\n",
      "25000/25000 [==============================] - 13s 539us/step - loss: 0.0206 - acc: 0.9921\n",
      "Epoch 55/80\n",
      "25000/25000 [==============================] - 15s 594us/step - loss: 0.0184 - acc: 0.9934\n",
      "Epoch 56/80\n",
      "25000/25000 [==============================] - 15s 592us/step - loss: 0.0182 - acc: 0.9935\n",
      "Epoch 57/80\n",
      "25000/25000 [==============================] - 16s 636us/step - loss: 0.0192 - acc: 0.9934\n",
      "Epoch 58/80\n",
      "25000/25000 [==============================] - 18s 721us/step - loss: 0.0184 - acc: 0.9936\n",
      "Epoch 59/80\n",
      "25000/25000 [==============================] - 19s 745us/step - loss: 0.0166 - acc: 0.9938\n",
      "Epoch 60/80\n",
      "25000/25000 [==============================] - 20s 814us/step - loss: 0.0160 - acc: 0.9946\n",
      "Epoch 61/80\n",
      "25000/25000 [==============================] - 23s 908us/step - loss: 0.0184 - acc: 0.9938\n",
      "Epoch 62/80\n",
      "25000/25000 [==============================] - 27s 1ms/step - loss: 0.0195 - acc: 0.9932\n",
      "Epoch 63/80\n",
      "25000/25000 [==============================] - 38s 2ms/step - loss: 0.0169 - acc: 0.9941\n",
      "Epoch 64/80\n",
      "25000/25000 [==============================] - 88s 4ms/step - loss: 0.0160 - acc: 0.9946\n",
      "Epoch 65/80\n",
      "25000/25000 [==============================] - 120s 5ms/step - loss: 0.0172 - acc: 0.9946\n",
      "Epoch 66/80\n",
      "25000/25000 [==============================] - 45s 2ms/step - loss: 0.0175 - acc: 0.9940\n",
      "Epoch 67/80\n",
      "25000/25000 [==============================] - 28s 1ms/step - loss: 0.0156 - acc: 0.9946\n",
      "Epoch 68/80\n",
      "25000/25000 [==============================] - 23s 935us/step - loss: 0.0166 - acc: 0.9946\n",
      "Epoch 69/80\n",
      "25000/25000 [==============================] - 21s 833us/step - loss: 0.0136 - acc: 0.9949\n",
      "Epoch 70/80\n",
      "25000/25000 [==============================] - 19s 746us/step - loss: 0.0163 - acc: 0.9946\n",
      "Epoch 71/80\n",
      "25000/25000 [==============================] - 17s 700us/step - loss: 0.0167 - acc: 0.9938\n",
      "Epoch 72/80\n",
      "25000/25000 [==============================] - 16s 654us/step - loss: 0.0150 - acc: 0.9949\n",
      "Epoch 73/80\n",
      "25000/25000 [==============================] - 15s 601us/step - loss: 0.0162 - acc: 0.9943\n",
      "Epoch 74/80\n",
      "25000/25000 [==============================] - 16s 627us/step - loss: 0.0162 - acc: 0.9950\n",
      "Epoch 75/80\n",
      "25000/25000 [==============================] - 15s 600us/step - loss: 0.0158 - acc: 0.9946\n",
      "Epoch 76/80\n",
      "25000/25000 [==============================] - 15s 601us/step - loss: 0.0159 - acc: 0.9944\n",
      "Epoch 77/80\n",
      "25000/25000 [==============================] - 15s 598us/step - loss: 0.0149 - acc: 0.9950\n",
      "Epoch 78/80\n",
      "25000/25000 [==============================] - 15s 597us/step - loss: 0.0163 - acc: 0.9949\n",
      "Epoch 79/80\n",
      "25000/25000 [==============================] - 16s 629us/step - loss: 0.0146 - acc: 0.9951\n",
      "Epoch 80/80\n",
      "25000/25000 [==============================] - 15s 603us/step - loss: 0.0134 - acc: 0.9951\n"
     ]
    },
    {
     "data": {
      "text/plain": [
       "<keras.callbacks.History at 0x7fa2462a94a8>"
      ]
     },
     "execution_count": 9,
     "metadata": {},
     "output_type": "execute_result"
    }
   ],
   "source": [
    "# TODO: Run the model. Feel free to experiment with different batch sizes and number of epochs.\n",
    "imdb.fit(x_train, y_train, batch_size=200,epochs=80)"
   ]
  },
  {
   "cell_type": "markdown",
   "metadata": {},
   "source": [
    "## 6. Evaluating the model\n",
    "This will give you the accuracy of the model, as evaluated on the testing set. Can you get something over 85%?"
   ]
  },
  {
   "cell_type": "code",
   "execution_count": 10,
   "metadata": {},
   "outputs": [
    {
     "name": "stdout",
     "output_type": "stream",
     "text": [
      "Accuracy:  0.85364\n"
     ]
    }
   ],
   "source": [
    "score = imdb.evaluate(x_test, y_test, verbose=0)\n",
    "print(\"Accuracy: \", score[1])"
   ]
  },
  {
   "cell_type": "code",
   "execution_count": null,
   "metadata": {},
   "outputs": [],
   "source": []
  }
 ],
 "metadata": {
  "kernelspec": {
   "display_name": "Python 3",
   "language": "python",
   "name": "python3"
  },
  "language_info": {
   "codemirror_mode": {
    "name": "ipython",
    "version": 3
   },
   "file_extension": ".py",
   "mimetype": "text/x-python",
   "name": "python",
   "nbconvert_exporter": "python",
   "pygments_lexer": "ipython3",
   "version": "3.5.6"
  }
 },
 "nbformat": 4,
 "nbformat_minor": 2
}
